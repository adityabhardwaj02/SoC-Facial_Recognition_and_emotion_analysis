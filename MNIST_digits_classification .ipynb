{
 "cells": [
  {
   "cell_type": "code",
   "execution_count": 25,
   "id": "247815b4-3505-46e2-9cf5-e76b3eb92b69",
   "metadata": {},
   "outputs": [],
   "source": [
    "import numpy as np\n",
    "import matplotlib.pyplot  as plt\n",
    "import random as random"
   ]
  },
  {
   "cell_type": "code",
   "execution_count": 20,
   "id": "dd06861a-19cd-4e03-adb0-5b228c81cd53",
   "metadata": {},
   "outputs": [],
   "source": [
    "X_train=np.loadtxt('train_X.csv',delimiter=',').T\n",
    "Y_train=np.loadtxt('train_label.csv',delimiter=',').T\n",
    "\n",
    "X_test=np.loadtxt('test_X.csv',delimiter=',').T\n",
    "Y_test=np.loadtxt('test_label.csv',delimiter=',').T"
   ]
  },
  {
   "cell_type": "code",
   "execution_count": 22,
   "id": "35a979b6-190c-4b27-9871-932af949e928",
   "metadata": {},
   "outputs": [
    {
     "name": "stdout",
     "output_type": "stream",
     "text": [
      "shape of X_train: (784, 1000)\n",
      "shape of Y_train: (10, 1000)\n"
     ]
    }
   ],
   "source": [
    "print(\"shape of X_train:\", X_train.shape)\n",
    "print(\"shape of Y_train:\" ,Y_train.shape)"
   ]
  },
  {
   "cell_type": "code",
   "execution_count": 23,
   "id": "49faa6ba-d573-4de8-9b08-2382bc99b9d9",
   "metadata": {},
   "outputs": [
    {
     "name": "stdout",
     "output_type": "stream",
     "text": [
      "shape of X_test: (784, 350)\n",
      "shape of Y_test: (10, 350)\n"
     ]
    }
   ],
   "source": [
    "print(\"shape of X_test:\", X_test.shape)\n",
    "print(\"shape of Y_test:\", Y_test.shape)"
   ]
  },
  {
   "cell_type": "markdown",
   "id": "da64bff0-b100-4e6f-a65b-0e1edf52c945",
   "metadata": {},
   "source": [
    "# Vislualising Our Data"
   ]
  },
  {
   "cell_type": "code",
   "execution_count": 46,
   "id": "a4069867-0029-4084-b619-25d632260903",
   "metadata": {},
   "outputs": [
    {
     "data": {
      "text/plain": [
       "<function matplotlib.pyplot.show(close=None, block=None)>"
      ]
     },
     "execution_count": 46,
     "metadata": {},
     "output_type": "execute_result"
    },
    {
     "data": {
      "image/png": "[encoded data removed]",
      "text/plain": [
       "<Figure size 640x480 with 1 Axes>"
      ]
     },
     "metadata": {},
     "output_type": "display_data"
    }
   ],
   "source": [
    "index=int(random.randrange(0,X_train.shape[1])) #X_train can actually be treated as a tuple\n",
    "plt.imshow(X_train[:, index].reshape((28,28)),cmap='gray')\n",
    "plt.show"
   ]
  },
  {
   "cell_type": "markdown",
   "id": "036f3930-59e4-4986-a5f8-f93fcb2d23b4",
   "metadata": {},
   "source": [
    "## WE ARE GOING TO JUST USE ONE HIDDEN LAYER\n",
    "### So the model looks like input layer -> hidden layer -> output layer"
   ]
  },
  {
   "cell_type": "markdown",
   "id": "3a32b077-919f-4c7c-a5a6-a9220382b391",
   "metadata": {},
   "source": [
    "# Model\n",
    "\n",
    "\n",
    "## Initialize parameters Randomly\n",
    "$ W_1 = np.random.randn(n_1, n_0) $\n",
    "\n",
    "$ b_1 = np.zeros((n_1, 1))$\n",
    "\n",
    "$ W_2 = np.random.randn(n_2, n_1) $\n",
    "\n",
    "$ b_2 = np.zeros((n_2, 1))$\n",
    "\n",
    "\n",
    "## *Repeat Below Steps for many times : *\n",
    "\n",
    "\n",
    "## Forward Propagation \n",
    "\n",
    "$ Z_1 = W_1 * X + B_1 $\n",
    "\n",
    "$ A_1 = f ( Z_1 ) $  \n",
    "\n",
    "$ Z_2 = W2 * A_1 + B_2 $\n",
    "\n",
    "$ A_2 = Softmax( Z_2 ) $\n",
    "\n",
    "## Softmax \n",
    "\n",
    "$ a_i = \\frac{e^{z_i}}{\\sum_{i=k}^ne^{z_k}}$\n",
    "\n",
    "\n",
    "## Cost Function \n",
    "\n",
    "$Loss = - \\sum_{i=k}^{n}[ y_k*log(a_k) ]$\n",
    "\n",
    "$Cost = - \\frac{1}{m}\\sum_{i=1}^{m}\\sum_{k=1}^{n}[ y_k*log(a_k) ]$\n",
    "\n",
    "\n",
    "\n",
    "## Backward Propagation\n",
    "$dZ_2 = ( A_2 - Y )$\n",
    "\n",
    "$ dW_2 = \\frac{1}{m}. dZ_2 . A_1^T$\n",
    "\n",
    "$ dB_2 = \\frac{1}{m}.sum(dZ_2, 1)$\n",
    "\n",
    "\n",
    "\n",
    "$dZ_1 = W_2^T . dZ_2 * f_1^|(Z_1) $\n",
    "\n",
    "$dW_1 = \\frac{1}{m}.dZ_1.X^T$\n",
    "\n",
    "$dB_1 = \\frac{1}{m}.sum(dZ_1, 1)$\n",
    "\n",
    "\n",
    "## Updating Parameters\n",
    "\n",
    "$ W_2 = W_2 -  \\alpha * \\frac{\\partial Cost }{\\partial W_2}$ \n",
    "\n",
    "$ B_2 = B_2 -  \\alpha * \\frac{\\partial Cost }{\\partial B_2}$ \n",
    "\n",
    "$ W_1 = W_1 -  \\alpha * \\frac{\\partial Cost }{\\partial W_1}$ \n",
    "\n",
    "$ B_1 = B_1 -  \\alpha * \\frac{\\partial Cost }{\\partial B_1}$ \n"
   ]
  },
  {
   "cell_type": "markdown",
   "id": "06ede6ae-eddf-4160-a1cb-1cb6eb1dcf75",
   "metadata": {},
   "source": [
    "## Activation Functions"
   ]
  },
  {
   "cell_type": "code",
   "execution_count": 32,
   "id": "1ea08038-0940-406d-9d36-709bbbd657a7",
   "metadata": {},
   "outputs": [],
   "source": [
    "def tanh(x):\n",
    "    return np.tanh(x)"
   ]
  },
  {
   "cell_type": "code",
   "execution_count": 33,
   "id": "3acb92e9-658b-4cdd-8004-b8e7864f75e8",
   "metadata": {},
   "outputs": [],
   "source": [
    "def relu(x):\n",
    "    return max(0,x)"
   ]
  },
  {
   "cell_type": "code",
   "execution_count": 63,
   "id": "a05a35e7-8210-4249-af1b-a261d19ca0a8",
   "metadata": {},
   "outputs": [],
   "source": [
    "def softmax(z):\n",
    "    expZ=np.exp(z)\n",
    "    return np.exp(z)/np.sum(expZ,axis=0)"
   ]
  },
  {
   "cell_type": "code",
   "execution_count": 64,
   "id": "db3122a5-6ca3-403f-904d-123db6685fce",
   "metadata": {},
   "outputs": [],
   "source": [
    "def derivative_tanh(x):\n",
    "     return (1 - np.power(np.tanh(x), 2))"
   ]
  },
  {
   "cell_type": "code",
   "execution_count": 36,
   "id": "0307bafe-a54a-43b5-bd48-800d08c4aca2",
   "metadata": {},
   "outputs": [],
   "source": [
    "def derivative_relu(x):\n",
    "    return int(x>0)"
   ]
  },
  {
   "cell_type": "markdown",
   "id": "8d256375-e7dc-402f-a2e7-fd59228d50a0",
   "metadata": {},
   "source": [
    "## INITITALISING PARAMETERS"
   ]
  },
  {
   "cell_type": "code",
   "execution_count": 54,
   "id": "6295740f-4dd2-406f-a56d-0554f193a955",
   "metadata": {},
   "outputs": [],
   "source": [
    "def initialize_parameters(n_x, n_h, n_y):\n",
    "    w1=np.random.randn(n_h,n_x)*0.001\n",
    "    b1=np.zeros((n_h,1))\n",
    "    w2=np.random.randn(n_y,n_h)*0.001\n",
    "    b2=np.zeros((n_y,1))\n",
    "    parameters={\n",
    "    'w1':w1,\n",
    "    'b1':b1,\n",
    "    'w2':w2,\n",
    "    'b2':b2\n",
    "    }\n",
    "    return parameters"
   ]
  },
  {
   "cell_type": "markdown",
   "id": "4ae0a93d-4d63-4944-850b-1852321bdf20",
   "metadata": {},
   "source": [
    "# Forward Propagation\n",
    "\n",
    "We need to impletement the following equation for forward propagation :\n",
    "\n",
    "$ Z_1 = W_1 * X + B_1 $\n",
    "\n",
    "$ A_1 = f ( Z_1 ) $  \n",
    "\n",
    "$ Z_2 = W2 * A_1 + B_2 $\n",
    "\n",
    "$ A_2 = Softmax( Z_2 ) $\n"
   ]
  },
  {
   "cell_type": "code",
   "execution_count": 40,
   "id": "34b399e6-430c-4b5d-8414-7895e1c1f5ff",
   "metadata": {},
   "outputs": [],
   "source": [
    "def forward_propagation(x,parameters):\n",
    "    w1=parameters['w1']\n",
    "    w2=parameters['w2']\n",
    "    b1=parameters['b1']\n",
    "    b2=parameters['b2']\n",
    "\n",
    "    z1=np.dot(w1,x)+b1\n",
    "    a1=tanh(z1)\n",
    "    z2=np.dot(w2,a1)+b2\n",
    "    a2=softmax(z2)\n",
    "\n",
    "    forward_cache={\n",
    "        'z1':z1,\n",
    "        'z2':z2,\n",
    "        'a1':a1,\n",
    "        'a2':a2\n",
    "    }\n",
    "    return forward_cache\n",
    "    "
   ]
  },
  {
   "cell_type": "markdown",
   "id": "1f37c25a-55be-462a-9802-c805b0094138",
   "metadata": {},
   "source": [
    "# Cost Function\n",
    "\n",
    "$Loss = - \\sum_{k=1}^{n}[ y_k*log(a_k) ]$ .. *for 1 observation*\n",
    "\n",
    "$Cost = - \\frac{1}{m}\\sum_{i=1}^{m}\\sum_{k=1}^{n}[ y_k*log(a_k) ]$  .. *for all m observations*\n",
    "\n",
    "We need to return the cost in the below function\n",
    "We can use np.sum()\n",
    "- np.sum(A, axis = 1, keepdims = True) return the column-wise sum for a matrix A\n",
    "- np.sum(A, axis = 0, keepdims = True) returns the row-wise sum for a matrix A\n",
    "- np.sum(A) returns the summation of all the elements of A\n",
    "\n",
    "*keepdims = True keeps the dimenstion in place. In certain cases, the returned sum can be of shape(m,) instead of shape(m, 1).\n",
    "So, keepdims = True forces it to return the sum in shape(m, 1) instead of shape(m,)*\n",
    "\n"
   ]
  },
  {
   "cell_type": "code",
   "execution_count": 80,
   "id": "90db6eb6-ac48-4ab9-b112-e03e3a924480",
   "metadata": {},
   "outputs": [],
   "source": [
    "def cost_function(a2,y):\n",
    "    m=y.shape[1]\n",
    "    cost=-(1/m)*np.sum(y*np.log(a2))\n",
    "    return cost\n",
    "    "
   ]
  },
  {
   "cell_type": "markdown",
   "id": "813a9063-bbd1-4955-9b0c-f1b461dfc130",
   "metadata": {},
   "source": [
    "# Backward Propagation\n",
    "\n",
    "We need to implement the below equations\n",
    "\n",
    "$dZ_2 = ( A_2 - Y )$\n",
    "\n",
    "$ dW_2 = \\frac{1}{m}. dZ_2 . A_2^T$\n",
    "\n",
    "$ dB_2 = \\frac{1}{m}.sum(dZ_2, 1)$\n",
    "\n",
    "\n",
    "\n",
    "$dZ_1 = W_2^T . dZ_2 * f_1^|(Z_1) $\n",
    "\n",
    "$dW_1 = \\frac{1}{m}.dZ_1.A_1^T$\n",
    "\n",
    "$dB_1 = \\frac{1}{m}.sum(dZ_1, 1)$\n",
    "\n",
    "Helper python functions :\n",
    "- A.T returns the transpose of matrix A\n",
    "- np.dot(A, B) returns the matrix multiplication of A and B\n",
    "- A*B returns the element wise multi-plication for A and B\n",
    "- np.sum(A, axis = 1, keepdims = True) return the column-wise sum for a matrix A\n",
    "- np.sum(A, axis = 0, keepdims = True) returns the row-wise sum for a matrix A"
   ]
  },
  {
   "cell_type": "code",
   "execution_count": 72,
   "id": "6a55de8c-765f-45e0-84da-f98aebf39631",
   "metadata": {},
   "outputs": [],
   "source": [
    "def backward_prop(x,y,parameters,forward_cache):\n",
    "    m=x.shape[1]\n",
    "\n",
    "    w1=parameters['w1']\n",
    "    w2=parameters['w2']\n",
    "    b1=parameters['b1']\n",
    "    b2=parameters['b2']\n",
    "\n",
    "    a1=forward_cache['a1']\n",
    "    a2=forward_cache['a2']\n",
    "\n",
    "    dz2=a2-y\n",
    "    dw2=(1/m)*np.dot(dz2,a1.T)\n",
    "    db2=(1/m)*np.sum(dz2,axis=1,keepdims=True)\n",
    "    dz1=np.dot(w2.T,dz2)*derivative_tanh(a1)\n",
    "    dw1=(1/m)*np.dot(dz1,x.T)\n",
    "    db1=(1/m)*np.sum(dz1,axis=1,keepdims=True)\n",
    "\n",
    "    gradients = {\n",
    "        \"dw1\" : dw1,\n",
    "        \"db1\" : db1,\n",
    "        \"dw2\" : dw2, \n",
    "        \"db2\" : db2\n",
    "    }\n",
    "    return gradients\n",
    "    "
   ]
  },
  {
   "cell_type": "markdown",
   "id": "5b0bc492-aaaa-48d7-aa24-4f5b4076024a",
   "metadata": {},
   "source": [
    "# Update parameters"
   ]
  },
  {
   "cell_type": "code",
   "execution_count": 45,
   "id": "ded95779-593d-44e4-b265-0f43856745ff",
   "metadata": {},
   "outputs": [],
   "source": [
    "def update_parameters(parameters, gradients, learning_rate):\n",
    "    \n",
    "    \n",
    "    w1 = parameters['w1']\n",
    "    b1 = parameters['b1']\n",
    "    w2 = parameters['w2']\n",
    "    b2 = parameters['b2'] \n",
    "    \n",
    "    dw1 = gradients['dw1']\n",
    "    db1 = gradients['db1']\n",
    "    dw2 = gradients['dw2']\n",
    "    db2 = gradients['db2']\n",
    "    \n",
    "    w1 = w1-learning_rate*dw1\n",
    "    b1 = b1-learning_rate*db1\n",
    "    w2 = w2-learning_rate*dw2\n",
    "    b2 = b2-learning_rate*db2\n",
    "    \n",
    "    parameters = {\n",
    "        \"w1\" : w1, \n",
    "        \"b1\" : b1, \n",
    "        \"w2\" : w2,\n",
    "        \"b2\" : b2\n",
    "    }\n",
    "    \n",
    "    return parameters"
   ]
  },
  {
   "cell_type": "markdown",
   "id": "60f50ff7-71f7-4139-8064-6e9de291bbff",
   "metadata": {},
   "source": [
    "# Complete Model\n",
    "\n",
    "Implement the entire Neural Network here\n",
    "\n",
    "### Instructions :\n",
    "\n",
    "We need to initialize parameters once, and after that, we will run the following in a loop:\n",
    "- forward_prop(x, parameters)\n",
    "- cost_function(a2, y)\n",
    "- backward_prop(x, y, parameters, forward_cache)\n",
    "- parameters = update_parameters(parameters, gradients, learning_rate)\n",
    "\n",
    "### Return :\n",
    "- parameters, which will be our trained parameters\n",
    "- cost_list, which contains cost for every iterations."
   ]
  },
  {
   "cell_type": "code",
   "execution_count": 56,
   "id": "c1d229f0-270f-4d32-b5a9-69665448a511",
   "metadata": {},
   "outputs": [],
   "source": [
    "def model(x, y, n_h, learning_rate, iterations):\n",
    "    \n",
    "    n_x = x.shape[0]\n",
    "    n_y = y.shape[0]\n",
    "    \n",
    "    \n",
    "    cost_list = []\n",
    "    \n",
    "    parameters = initialize_parameters(n_x, n_h, n_y)\n",
    "    \n",
    "    for i in range(iterations):\n",
    "        \n",
    "        forward_cache = forward_propagation(x, parameters)\n",
    "        \n",
    "        cost = cost_function(forward_cache['a2'], y)\n",
    "        \n",
    "        gradients = backward_prop(x, y, parameters, forward_cache)\n",
    "        \n",
    "        parameters = update_parameters(parameters, gradients, learning_rate)\n",
    "        \n",
    "        cost_list.append(cost)\n",
    "        \n",
    "        if(i%(iterations/10) == 0):\n",
    "            print(\"Cost after\", i, \"iterations is :\", cost)\n",
    "        \n",
    "    return parameters, cost_list"
   ]
  },
  {
   "cell_type": "code",
   "execution_count": 81,
   "id": "2b11d5fe-4a8c-488b-9876-38e80ffc3aac",
   "metadata": {},
   "outputs": [
    {
     "name": "stdout",
     "output_type": "stream",
     "text": [
      "Cost after 0 iterations is : 2.3033586417636154\n",
      "Cost after 100 iterations is : 0.10392057626878978\n",
      "Cost after 200 iterations is : 0.041359877840528275\n",
      "Cost after 300 iterations is : 0.02399736964992191\n",
      "Cost after 400 iterations is : 0.01668492863550487\n",
      "Cost after 500 iterations is : 0.01274251904430493\n",
      "Cost after 600 iterations is : 0.010315567088053694\n",
      "Cost after 700 iterations is : 0.00858185278264458\n",
      "Cost after 800 iterations is : 0.007378854649899623\n",
      "Cost after 900 iterations is : 0.006484880794862223\n"
     ]
    }
   ],
   "source": [
    "n_h=1000\n",
    "learning_rate=0.01\n",
    "iterations=1000\n",
    "\n",
    "parameters,cost_list=model(X_train,Y_train,n_h=n_h, learning_rate=learning_rate,iterations=iterations)"
   ]
  },
  {
   "cell_type": "code",
   "execution_count": 83,
   "id": "448b0f5f-6024-46f2-92f2-839e41f4ea3f",
   "metadata": {},
   "outputs": [
    {
     "data": {
      "image/png": "[encoded data removed]",
      "text/plain": [
       "<Figure size 640x480 with 1 Axes>"
      ]
     },
     "metadata": {},
     "output_type": "display_data"
    }
   ],
   "source": [
    "t = np.arange(0, iterations)\n",
    "plt.plot(t, cost_list)\n",
    "plt.show()"
   ]
  },
  {
   "cell_type": "code",
   "execution_count": 84,
   "id": "65475b7d-28f4-4dad-abd0-afca62fe7b65",
   "metadata": {},
   "outputs": [],
   "source": [
    "def accuracy(inp, labels, parameters):\n",
    "    forward_cache = forward_propagation(inp, parameters)\n",
    "    a_out = forward_cache['a2']   # containes propabilities with shape(10, 1)\n",
    "    \n",
    "    a_out = np.argmax(a_out, 0)  # 0 represents row wise \n",
    "    \n",
    "    labels = np.argmax(labels, 0)\n",
    "    \n",
    "    acc = np.mean(a_out == labels)*100\n",
    "    \n",
    "    return acc"
   ]
  },
  {
   "cell_type": "code",
   "execution_count": 86,
   "id": "63ea5197-a1ab-4ec2-b81a-3908a282349c",
   "metadata": {},
   "outputs": [
    {
     "name": "stdout",
     "output_type": "stream",
     "text": [
      "Accuracy of Train Dataset 100.0 %\n",
      "Accuracy of Test Dataset 84.0 %\n"
     ]
    }
   ],
   "source": [
    "print(\"Accuracy of Train Dataset\", accuracy(X_train, Y_train, parameters), \"%\")\n",
    "print(\"Accuracy of Test Dataset\", round(accuracy(X_test, Y_test, parameters), 2), \"%\")"
   ]
  },
  {
   "cell_type": "code",
   "execution_count": 90,
   "id": "7f3eafa7-dd7c-4315-8aeb-f1d0a1a5ecc1",
   "metadata": {},
   "outputs": [
    {
     "data": {
      "image/png": "[encoded data removed]",
      "text/plain": [
       "<Figure size 640x480 with 1 Axes>"
      ]
     },
     "metadata": {},
     "output_type": "display_data"
    },
    {
     "name": "stdout",
     "output_type": "stream",
     "text": [
      "Our model says it is : 5\n"
     ]
    }
   ],
   "source": [
    "idx = int(random.randrange(0,X_test.shape[1]))\n",
    "plt.imshow(X_test[:, idx].reshape((28,28)),cmap='gray')\n",
    "plt.show()\n",
    "\n",
    "cache = forward_propagation(X_test[:, idx].reshape(X_test[:, idx].shape[0], 1), parameters)\n",
    "a_pred = cache['a2']  \n",
    "a_pred = np.argmax(a_pred, 0)\n",
    "\n",
    "print(\"Our model says it is :\", a_pred[0])"
   ]
  },
  {
   "cell_type": "code",
   "execution_count": null,
   "id": "db24b62c-0361-4e71-ac44-a5906d2f8bcf",
   "metadata": {},
   "outputs": [],
   "source": []
  },
  {
   "cell_type": "code",
   "execution_count": null,
   "id": "34a90e2f-2b2d-4cbe-8436-ff9cef9bbca6",
   "metadata": {},
   "outputs": [],
   "source": []
  }
 ],
 "metadata": {
  "kernelspec": {
   "display_name": "Python 3 (ipykernel)",
   "language": "python",
   "name": "python3"
  },
  "language_info": {
   "codemirror_mode": {
    "name": "ipython",
    "version": 3
   },
   "file_extension": ".py",
   "mimetype": "text/x-python",
   "name": "python",
   "nbconvert_exporter": "python",
   "pygments_lexer": "ipython3",
   "version": "3.12.3"
  }
 },
 "nbformat": 4,
 "nbformat_minor": 5
}
